{
 "cells": [
  {
   "cell_type": "markdown",
   "metadata": {},
   "source": [
    "# Portfolio Construction and Analysis -- Lab 2\n",
    "\n",
    "## Objectives\n",
    "Try to develop and backtest a well diversified portfolio of assets"
   ]
  }
 ],
 "metadata": {
  "language_info": {
   "name": "python"
  }
 },
 "nbformat": 4,
 "nbformat_minor": 2
}
