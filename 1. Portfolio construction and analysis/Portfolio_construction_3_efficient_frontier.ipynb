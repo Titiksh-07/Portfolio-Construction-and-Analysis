{
 "cells": [
  {
   "cell_type": "markdown",
   "metadata": {},
   "source": [
    "# Portfolio Construction and Analysis -- Efficient Frontier\n",
    "## Objectives\n",
    "1. Draw the efficient Frontier for a given set of returns and volatility"
   ]
  },
  {
   "cell_type": "code",
   "execution_count": 148,
   "metadata": {},
   "outputs": [
    {
     "name": "stdout",
     "output_type": "stream",
     "text": [
      "The autoreload extension is already loaded. To reload it, use:\n",
      "  %reload_ext autoreload\n"
     ]
    }
   ],
   "source": [
    "%load_ext autoreload\n",
    "%autoreload 2\n",
    "%matplotlib inline\n",
    "\n",
    "import pandas as pd\n",
    "import numpy as np\n",
    "import matplotlib.pyplot as plt\n",
    "import yfinance as yf\n",
    "import sys\n",
    "sys.path.insert(0, 'python_files')\n",
    "import functions_1 as fnc\n",
    "import edhec_risk_kit_127 as erk\n",
    "\n",
    "r = fnc.local_returns_data().dropna()\n",
    "rm = fnc.change_timeframe(r.dropna(), 'M')\n",
    "er = fnc.annualize_returns(rm, 12)"
   ]
  },
  {
   "cell_type": "code",
   "execution_count": 149,
   "metadata": {},
   "outputs": [],
   "source": [
    "cov = r.cov()"
   ]
  },
  {
   "cell_type": "code",
   "execution_count": 150,
   "metadata": {},
   "outputs": [],
   "source": [
    "def portfolio_return(weights, returns):\n",
    "    \"\"\"\n",
    "    Computes the return on a portfolio from constituent returns and weights\n",
    "    weights are a numpy array or N x 1 matrix and returns are a numpy array or N x 1 matrix\n",
    "    \"\"\"\n",
    "    return weights.T @ returns\n",
    "\n",
    "def portfolio_vol(weights, covmat):\n",
    "    \"\"\"\n",
    "    Computes the vol of a portfolio from a covariance matrix and constituent weights\n",
    "    weights are a numpy array or N x 1 maxtrix and covmat is an N x N matrix\n",
    "    \"\"\"\n",
    "    return (weights.T @ covmat @ weights)**0.5"
   ]
  },
  {
   "cell_type": "markdown",
   "metadata": {},
   "source": [
    "In order to find the optimal weights we need a function that will minimize the volatility for a given level of return."
   ]
  },
  {
   "cell_type": "code",
   "execution_count": 151,
   "metadata": {},
   "outputs": [],
   "source": [
    "from scipy.optimize import minimize\n",
    "\n",
    "def minimize_vol(target_return, er, cov, weight_constraints = 1):\n",
    "    \"\"\"\n",
    "    Returns the optimal weights that acieve the target return.\n",
    "\n",
    "    Inputs-->\n",
    "    target_return: desired level of return\n",
    "    er: expected returns for each asset in the portfolio\n",
    "    cov: covariance matrix for the given assets\n",
    "    weight_constraints: default(1) weight constraint. Anythng above means leveraging\n",
    "    \"\"\"\n",
    "    n = er.shape[0] #number of assets\n",
    "    init_guess = np.repeat(1/n, n)\n",
    "    bounds = ((0, weight_constraints),) * n\n",
    "    #construct the constraints\n",
    "    weights_sum_to_contraint = {'type': 'eq',\n",
    "                        'fun': lambda weights: np.sum(weights) - weight_constraints\n",
    "    }\n",
    "    return_is_target = {\n",
    "        'type': 'eq',\n",
    "        'args': (er,),\n",
    "        'fun': lambda weights, er: target_return - portfolio_return(weights, er)\n",
    "    }\n",
    "    weights = minimize(portfolio_vol, init_guess,\n",
    "                       args=(cov,), method='SLSQP',\n",
    "                       options={'disp': False},\n",
    "                       constraints=(weights_sum_to_contraint,return_is_target),\n",
    "                       bounds=bounds)\n",
    "    return weights.x\n"
   ]
  },
  {
   "cell_type": "markdown",
   "metadata": {},
   "source": [
    "### Optimal Weights"
   ]
  },
  {
   "cell_type": "code",
   "execution_count": 152,
   "metadata": {},
   "outputs": [],
   "source": [
    "def optimal_weights(n_points, er, cov, weight_constraints=1):\n",
    "    \"\"\"\n",
    "    Returns a list of weights that represent a grid of n_points on the efficient frontier\n",
    "    \"\"\"\n",
    "    target_rs = np.linspace(er.min(), er.max()*weight_constraints, n_points)\n",
    "    weights = [minimize_vol(target_return, er, cov, weight_constraints) for target_return in target_rs]\n",
    "    return weights"
   ]
  },
  {
   "cell_type": "markdown",
   "metadata": {},
   "source": [
    "## Efficient Frontier"
   ]
  },
  {
   "cell_type": "code",
   "execution_count": 166,
   "metadata": {},
   "outputs": [],
   "source": [
    "def msr(riskfree_rate, er, cov, weight_constraints=1):\n",
    "    \"\"\"\n",
    "    Returns a dataframe containing the weights of the maximum sharpe ratio portfolio, portfolio returns, volatility, and sharpe ratio\n",
    "    given the riskfree rate and expected returns and a covariance matrix\n",
    "    \"\"\"\n",
    "    n = er.shape[0]\n",
    "    init_guess = np.repeat(1/n, n)\n",
    "    bounds = ((0.0, weight_constraints),) * n # an N-tuple of 2-tuples!\n",
    "    # construct the constraints\n",
    "    weights_sum_to_constraint = {'type': 'eq',\n",
    "                        'fun': lambda weights: np.sum(weights) - weight_constraints\n",
    "    }\n",
    "    def neg_sharpe(weights, riskfree_rate, er, cov):\n",
    "        \"\"\"\n",
    "        Returns the negative of the sharpe ratio\n",
    "        of the given portfolio\n",
    "        \"\"\"\n",
    "        r = portfolio_return(weights, er)\n",
    "        vol = portfolio_vol(weights, cov)\n",
    "        return -(r - riskfree_rate)/vol\n",
    "    \n",
    "    weights = minimize(neg_sharpe, init_guess,\n",
    "                       args=(riskfree_rate, er, cov), method='SLSQP',\n",
    "                       options={'disp': False},\n",
    "                       constraints=(weights_sum_to_constraint,),\n",
    "                       bounds=bounds)\n",
    "    df = pd.DataFrame({'Weights':[weights.x],\n",
    "                       'Portfolio Return': portfolio_return(weights.x, er),\n",
    "                       'Portfolio Volatility': portfolio_vol(weights.x, cov),\n",
    "                       'Sharpe Ratio': (portfolio_return(weights.x, er)-riskfree_rate)/portfolio_vol(weights.x, cov)})\n",
    "    return df\n"
   ]
  },
  {
   "cell_type": "code",
   "execution_count": 167,
   "metadata": {},
   "outputs": [],
   "source": [
    "def gmv(cov, er=None, riskfree_rate=0, weight_constraints=1):\n",
    "    \"\"\"\n",
    "    Returns a dataframe or array containing the weights of the minimum variance portfolio and it's returns, volatility and sharpe ratio based on the expected returns if given\n",
    "    \n",
    "    Inputs-->\n",
    "    cov: covariance matrix\n",
    "    er: default(None), expected returns to calculate the performance of the portfolio\n",
    "    riskfree_rate: default(0), used in the calculation of sharpe ratio\n",
    "    \"\"\"\n",
    "    n = cov.shape[0]\n",
    "    weights = msr(0, np.repeat(1, n), cov, weight_constraints).loc[0, 'Weights']\n",
    "    if er is None:\n",
    "        return weights\n",
    "    else:\n",
    "        df = pd.DataFrame({'Weights':[weights],\n",
    "                       'Portfolio Return': portfolio_return(weights, er),\n",
    "                       'Portfolio Volatility': portfolio_vol(weights, cov),\n",
    "                       'Sharpe Ratio': (portfolio_return(weights, er)-riskfree_rate)/portfolio_vol(weights, cov)})\n",
    "        return df"
   ]
  },
  {
   "cell_type": "code",
   "execution_count": 168,
   "metadata": {},
   "outputs": [],
   "source": [
    "def plot_ef(n_points, er, cov, dataframe=False, weight_constraints=1, style='.-', legend=False, show_msr=False, riskfree_rate=0, show_ew=False, show_gmv=False, figsize=(12,6)):\n",
    "    \"\"\"\n",
    "    Plots or returns a dataframe if applied of the efficient frontier for the given expected returns and covariance matrix.\n",
    "\n",
    "    Inputs-->\n",
    "    n_points: number of points on the efficient frontier\n",
    "    er: expected returns\n",
    "    cov: covariance matrix of the given returns\n",
    "    dataframe: default(False), returns a dataframe except a plot\n",
    "    weight_constraint: default(1), leverage factor\n",
    "    style: default('.-'), style of the efficient frontier line\n",
    "    legend: default(False)\n",
    "    show_msr: default(False), shows the portfolio with maximum sharpe ratio\n",
    "    riskfree_rate: default(0), riskfree rate to be used in the calculation of sharpe ratio\n",
    "    show_ew: default(False), show the equal weighted portfolio\n",
    "    show_gmv: default(False), show the global minimum variance portfolio\n",
    "    figsize: default((12,6)), size of the plot\n",
    "\n",
    "    \"\"\"\n",
    "    weights = optimal_weights(n_points, er, cov, weight_constraints)\n",
    "    rets = [portfolio_return(w, er) for w in weights]\n",
    "    vols = [portfolio_vol(w, cov) for w in weights]\n",
    "    sharpe_ratio = [(ret - riskfree_rate)/vol for ret, vol in zip(rets, vols)]\n",
    "    if dataframe:\n",
    "        df = pd.DataFrame({\n",
    "            \"Weights\": weights,\n",
    "            \"Returns\": rets, \n",
    "            \"Volatility\": vols,\n",
    "            \"Sharpe Ratio\": sharpe_ratio\n",
    "            })\n",
    "        return df\n",
    "    else:\n",
    "        ef = pd.DataFrame({\n",
    "        \"Returns\": rets, \n",
    "        \"Volatility\": vols\n",
    "        })\n",
    "        ax = ef.plot.line(x=\"Volatility\", y=\"Returns\", style=style, legend=legend, figsize=figsize)\n",
    "        if show_msr:\n",
    "            ax.set_xlim(left = 0)\n",
    "            w_msr = msr(riskfree_rate, er, cov, weight_constraints).loc[0, 'Weights']\n",
    "            r_msr = portfolio_return(w_msr, er)\n",
    "            vol_msr = portfolio_vol(w_msr, cov)\n",
    "            #add CML\n",
    "            cml_x = [0, vol_msr]\n",
    "            cml_y = [riskfree_rate, r_msr]\n",
    "            ax.plot(cml_x, cml_y, color='green', marker='o', linestyle='dashed', linewidth=2, markersize=10)\n",
    "        if show_ew:\n",
    "            n = er.shape[0]\n",
    "            w_ew = np.repeat(1/n, n)\n",
    "            r_ew = portfolio_return(w_ew, er)\n",
    "            vol_ew = portfolio_vol(w_ew, cov)\n",
    "            ax.plot([vol_ew], [r_ew], color='goldenrod', marker='o', markersize=10)\n",
    "        if show_gmv:\n",
    "            w_gmv = gmv(cov, weight_constraints=weight_constraints)\n",
    "            r_gmv = portfolio_return(w_gmv, er)\n",
    "            vol_gmv = portfolio_vol(w_gmv, cov)\n",
    "            ax.plot([vol_gmv], [r_gmv], color='midnightblue', marker='o', markersize=10)\n",
    "        return ax\n"
   ]
  },
  {
   "cell_type": "markdown",
   "metadata": {},
   "source": [
    "Let's plot an efficeint frontier for the expected returns that we obtained in the last notebooks and their covariance on daily data"
   ]
  },
  {
   "cell_type": "code",
   "execution_count": 169,
   "metadata": {},
   "outputs": [
    {
     "data": {
      "text/plain": [
       "<Axes: xlabel='Volatility'>"
      ]
     },
     "execution_count": 169,
     "metadata": {},
     "output_type": "execute_result"
    },
    {
     "data": {
      "image/png": "[encoded data removed]",
      "text/plain": [
       "<Figure size 1200x600 with 1 Axes>"
      ]
     },
     "metadata": {},
     "output_type": "display_data"
    }
   ],
   "source": [
    "plot_ef(50, er, cov, show_gmv=True, show_ew=True, weight_constraints=2)"
   ]
  },
  {
   "cell_type": "code",
   "execution_count": 170,
   "metadata": {},
   "outputs": [
    {
     "data": {
      "text/html": [
       "<div>\n",
       "<style scoped>\n",
       "    .dataframe tbody tr th:only-of-type {\n",
       "        vertical-align: middle;\n",
       "    }\n",
       "\n",
       "    .dataframe tbody tr th {\n",
       "        vertical-align: top;\n",
       "    }\n",
       "\n",
       "    .dataframe thead th {\n",
       "        text-align: right;\n",
       "    }\n",
       "</style>\n",
       "<table border=\"1\" class=\"dataframe\">\n",
       "  <thead>\n",
       "    <tr style=\"text-align: right;\">\n",
       "      <th></th>\n",
       "      <th>Weights</th>\n",
       "      <th>Returns</th>\n",
       "      <th>Volatility</th>\n",
       "      <th>Sharpe Ratio</th>\n",
       "    </tr>\n",
       "  </thead>\n",
       "  <tbody>\n",
       "    <tr>\n",
       "      <th>0</th>\n",
       "      <td>[0.9999999799302114, 2.0069788844723213e-08, 0...</td>\n",
       "      <td>0.017976</td>\n",
       "      <td>0.000552</td>\n",
       "      <td>32.580838</td>\n",
       "    </tr>\n",
       "    <tr>\n",
       "      <th>1</th>\n",
       "      <td>[0.971342565373896, 4.255493527005605e-18, 0.0...</td>\n",
       "      <td>0.019625</td>\n",
       "      <td>0.000596</td>\n",
       "      <td>32.902768</td>\n",
       "    </tr>\n",
       "    <tr>\n",
       "      <th>2</th>\n",
       "      <td>[0.9451522174984943, 0.0, 0.0, 7.5894152073985...</td>\n",
       "      <td>0.021273</td>\n",
       "      <td>0.000667</td>\n",
       "      <td>31.914274</td>\n",
       "    </tr>\n",
       "    <tr>\n",
       "      <th>3</th>\n",
       "      <td>[0.9187301059920776, 0.0, 0.0, 3.4694469519536...</td>\n",
       "      <td>0.022922</td>\n",
       "      <td>0.000751</td>\n",
       "      <td>30.524539</td>\n",
       "    </tr>\n",
       "    <tr>\n",
       "      <th>4</th>\n",
       "      <td>[0.8925271710064983, 0.0, 0.0, 0.0, 0.00476733...</td>\n",
       "      <td>0.024570</td>\n",
       "      <td>0.000847</td>\n",
       "      <td>29.009029</td>\n",
       "    </tr>\n",
       "  </tbody>\n",
       "</table>\n",
       "</div>"
      ],
      "text/plain": [
       "                                             Weights   Returns  Volatility  \\\n",
       "0  [0.9999999799302114, 2.0069788844723213e-08, 0...  0.017976    0.000552   \n",
       "1  [0.971342565373896, 4.255493527005605e-18, 0.0...  0.019625    0.000596   \n",
       "2  [0.9451522174984943, 0.0, 0.0, 7.5894152073985...  0.021273    0.000667   \n",
       "3  [0.9187301059920776, 0.0, 0.0, 3.4694469519536...  0.022922    0.000751   \n",
       "4  [0.8925271710064983, 0.0, 0.0, 0.0, 0.00476733...  0.024570    0.000847   \n",
       "\n",
       "   Sharpe Ratio  \n",
       "0     32.580838  \n",
       "1     32.902768  \n",
       "2     31.914274  \n",
       "3     30.524539  \n",
       "4     29.009029  "
      ]
     },
     "execution_count": 170,
     "metadata": {},
     "output_type": "execute_result"
    }
   ],
   "source": [
    "a = plot_ef(50, er, cov, dataframe=True)\n",
    "a.head()"
   ]
  },
  {
   "cell_type": "code",
   "execution_count": 179,
   "metadata": {},
   "outputs": [
    {
     "data": {
      "text/plain": [
       "<Axes: xlabel='Volatility'>"
      ]
     },
     "execution_count": 179,
     "metadata": {},
     "output_type": "execute_result"
    },
    {
     "data": {
      "image/png": "[encoded data removed]",
      "text/plain": [
       "<Figure size 1200x600 with 1 Axes>"
      ]
     },
     "metadata": {},
     "output_type": "display_data"
    }
   ],
   "source": [
    "plot_ef(50, er, rm.cov())"
   ]
  }
 ],
 "metadata": {
  "kernelspec": {
   "display_name": "Data_Science_1",
   "language": "python",
   "name": "python3"
  },
  "language_info": {
   "codemirror_mode": {
    "name": "ipython",
    "version": 3
   },
   "file_extension": ".py",
   "mimetype": "text/x-python",
   "name": "python",
   "nbconvert_exporter": "python",
   "pygments_lexer": "ipython3",
   "version": "3.10.12"
  },
  "orig_nbformat": 4
 },
 "nbformat": 4,
 "nbformat_minor": 2
}
