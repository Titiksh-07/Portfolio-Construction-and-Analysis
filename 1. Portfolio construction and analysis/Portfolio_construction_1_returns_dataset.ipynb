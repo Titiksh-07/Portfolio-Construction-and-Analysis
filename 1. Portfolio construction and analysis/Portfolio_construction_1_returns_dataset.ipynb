{
 "cells": [
  {
   "attachments": {},
   "cell_type": "markdown",
   "metadata": {},
   "source": [
    "# Portfolio Construction 1\n",
    "\n",
    "## Objectives\n",
    "1. Create a DataFrame which contains returns of multiple assets\n",
    "2. Create functions to convert prices into returns and to add new columns to the dataframe"
   ]
  },
  {
   "cell_type": "code",
   "execution_count": 2,
   "metadata": {},
   "outputs": [],
   "source": [
    "%load_ext autoreload\n",
    "%autoreload 2\n",
    "%matplotlib inline\n",
    "\n",
    "import pandas as pd\n",
    "import numpy as np\n",
    "import matplotlib.pyplot as plt\n",
    "import Portfolio_construction_1_returns_dataset as pc"
   ]
  },
  {
   "attachments": {},
   "cell_type": "markdown",
   "metadata": {},
   "source": [
    "## Returns Dataset"
   ]
  },
  {
   "attachments": {},
   "cell_type": "markdown",
   "metadata": {},
   "source": [
    "Create a function that will clean and give the close column from the OHLC data"
   ]
  },
  {
   "cell_type": "code",
   "execution_count": 3,
   "metadata": {},
   "outputs": [],
   "source": [
    "def get_close_price_df(OHLC_file_path, Column_name = 'Close'):\n",
    "    \"\"\"\n",
    "    converts an OHLC csv file into a dataframe and then returns the close column along with date column as index\n",
    "    Best for higher time frame datasets like daily and weekly because it has no time section in Datetime column\n",
    "    \"\"\"\n",
    "    df = pd.read_csv(OHLC_file_path)\n",
    "    df = df[[\"Date\", \"Close\"]]\n",
    "    df[\"Date\"] = pd.to_datetime(df[\"Date\"])\n",
    "    df = df.set_index(\"Date\")\n",
    "    df = df.rename(columns={'Close':Column_name})\n",
    "\n",
    "    return df\n"
   ]
  },
  {
   "cell_type": "code",
   "execution_count": 4,
   "metadata": {},
   "outputs": [],
   "source": [
    "def change_timeframe(df, Timeframe, aggregation='sum'):\n",
    "    \"\"\"\n",
    "    Takes a datetime dataframe and resamples it's every column into the given timeframe\n",
    "\n",
    "    inputs:\n",
    "    df - Dataframe\n",
    "    Timeframe - New timeframe fot the dataset\n",
    "    aggregation - by default 'last', but can change according to the need\n",
    "    \"\"\"\n",
    "    column_names = df.columns\n",
    "    aggregation_dict = {column: aggregation for column in column_names}\n",
    "    resampled_df = df.resample(Timeframe).agg(aggregation_dict)\n",
    "    return resampled_df"
   ]
  },
  {
   "attachments": {},
   "cell_type": "markdown",
   "metadata": {},
   "source": [
    "```python\n",
    "def clean_dividends_df(file_path, new_column_name):\n",
    "    \"\"\"\n",
    "    Takes a csv file containing dividends release date and dividends amount\n",
    "    \"\"\"\n",
    "    df = pd.read_csv(file_path)\n",
    "    df = df.set_index('Date')\n",
    "    df.index = pd.to_datetime(df.index)\n",
    "    df = df.rename(columns={df.columns[0]:new_column_name})\n",
    "    return df\n",
    "\n",
    "```"
   ]
  },
  {
   "attachments": {},
   "cell_type": "markdown",
   "metadata": {},
   "source": [
    "```python\n",
    "def get_four_major_asset_classes():\n",
    "    \"\"\"\n",
    "    Gives the dividends adjusted returns of four major asset classes -> Gold, Real Estate(VNQ.mx), Bonds(BND.mx) and Equity(VTI.mx)\n",
    "    \"\"\"\n",
    "\n",
    "    GLD = get_close_price_df('Data\\OHLC_data\\SPDR_Gold_Shares _(GLD).csv', 'Gold')\n",
    "    VNQ = get_close_price_df('Data\\OHLC_data\\Vanguard_Real_Estate_Index-Fund_(VNQ).csv', 'Real Estate')\n",
    "    BND = get_close_price_df('Data\\OHLC_data\\Vanguard_Total_Bond_Market_Index_Fund_(BND).csv', 'Bonds')\n",
    "    VTI = get_close_price_df('Data\\OHLC_data\\Vanguard_Total_Market_Index_Fund_(VTI).csv', 'Equity')\n",
    "\n",
    "    BND_div = clean_dividends_df('Data\\Dividends_data\\BND.csv', 'Bonds Div')\n",
    "    VNQ_div = clean_dividends_df('Data\\Dividends_data\\VNQ.csv', 'Real Estate Div')\n",
    "    VTI_div = clean_dividends_df('Data\\Dividends_data\\VTI.csv', 'Equity Div')\n",
    "\n",
    "    dfs = [GLD, VNQ, BND, VTI]\n",
    "    df = pd.concat(dfs, axis=1)\n",
    "    df = pd.merge_asof(df.sort_index(), change_timeframe(BND_div, 'W').sort_index(),\n",
    "                          left_index=True, right_on='Date', direction='nearest', tolerance=pd.Timedelta(days=7))\n",
    "    df = pd.merge_asof(df.sort_index(), change_timeframe(VNQ_div, 'W').sort_index(),\n",
    "                          left_index=True, right_on='Date', direction='nearest', tolerance=pd.Timedelta(days=7))\n",
    "    df = pd.merge_asof(df.sort_index(), change_timeframe(VTI_div, 'W').sort_index(),\n",
    "                          left_index=True, right_on='Date', direction='nearest', tolerance=pd.Timedelta(days=7))\n",
    "    df.fillna(0, inplace=True)\n",
    "    df['Real Estate'] = df['Real Estate'] + df['Real Estate Div'].cumsum()\n",
    "    df['Bonds'] = df['Bonds'] + df['Bonds Div'].cumsum()\n",
    "    df['Equity'] = df['Equity'] + df['Equity Div'].cumsum()\n",
    "    df = df.drop(columns=['Real Estate Div', 'Bonds Div', 'Equity Div'])\n",
    "    df = df.pct_change().dropna()\n",
    "\n",
    "    return df\n",
    "\n",
    "\n",
    "def annualize_returns(r, periods_per_year):\n",
    "    \"\"\"\n",
    "    Annualizes a set of return\n",
    "    \"\"\"\n",
    "\n",
    "    compounded_growth = (1+r).prod()\n",
    "    n_periods = r.shape[0]\n",
    "    return compounded_growth**(periods_per_year/n_periods) - 1\n",
    "\n",
    "```"
   ]
  },
  {
   "cell_type": "code",
   "execution_count": 5,
   "metadata": {},
   "outputs": [
    {
     "data": {
      "text/html": [
       "<div>\n",
       "<style scoped>\n",
       "    .dataframe tbody tr th:only-of-type {\n",
       "        vertical-align: middle;\n",
       "    }\n",
       "\n",
       "    .dataframe tbody tr th {\n",
       "        vertical-align: top;\n",
       "    }\n",
       "\n",
       "    .dataframe thead th {\n",
       "        text-align: right;\n",
       "    }\n",
       "</style>\n",
       "<table border=\"1\" class=\"dataframe\">\n",
       "  <thead>\n",
       "    <tr style=\"text-align: right;\">\n",
       "      <th></th>\n",
       "      <th>Gold</th>\n",
       "      <th>Real Estate</th>\n",
       "      <th>Bonds</th>\n",
       "      <th>Equity</th>\n",
       "    </tr>\n",
       "    <tr>\n",
       "      <th>Date</th>\n",
       "      <th></th>\n",
       "      <th></th>\n",
       "      <th></th>\n",
       "      <th></th>\n",
       "    </tr>\n",
       "  </thead>\n",
       "  <tbody>\n",
       "    <tr>\n",
       "      <th>2011-02-07</th>\n",
       "      <td>0.005013</td>\n",
       "      <td>0.025767</td>\n",
       "      <td>0.002451</td>\n",
       "      <td>0.016861</td>\n",
       "    </tr>\n",
       "    <tr>\n",
       "      <th>2011-02-14</th>\n",
       "      <td>0.023352</td>\n",
       "      <td>0.003589</td>\n",
       "      <td>0.004389</td>\n",
       "      <td>0.011491</td>\n",
       "    </tr>\n",
       "    <tr>\n",
       "      <th>2011-02-21</th>\n",
       "      <td>0.014548</td>\n",
       "      <td>-0.005449</td>\n",
       "      <td>0.007366</td>\n",
       "      <td>-0.017256</td>\n",
       "    </tr>\n",
       "    <tr>\n",
       "      <th>2011-02-28</th>\n",
       "      <td>0.014340</td>\n",
       "      <td>-0.010101</td>\n",
       "      <td>-0.004338</td>\n",
       "      <td>0.001756</td>\n",
       "    </tr>\n",
       "    <tr>\n",
       "      <th>2011-03-07</th>\n",
       "      <td>-0.008109</td>\n",
       "      <td>0.000346</td>\n",
       "      <td>0.008116</td>\n",
       "      <td>-0.014169</td>\n",
       "    </tr>\n",
       "  </tbody>\n",
       "</table>\n",
       "</div>"
      ],
      "text/plain": [
       "                Gold  Real Estate     Bonds    Equity\n",
       "Date                                                 \n",
       "2011-02-07  0.005013     0.025767  0.002451  0.016861\n",
       "2011-02-14  0.023352     0.003589  0.004389  0.011491\n",
       "2011-02-21  0.014548    -0.005449  0.007366 -0.017256\n",
       "2011-02-28  0.014340    -0.010101 -0.004338  0.001756\n",
       "2011-03-07 -0.008109     0.000346  0.008116 -0.014169"
      ]
     },
     "execution_count": 5,
     "metadata": {},
     "output_type": "execute_result"
    }
   ],
   "source": [
    "returns = pc.get_four_major_asset_classes()\n",
    "returns.head()"
   ]
  },
  {
   "cell_type": "code",
   "execution_count": 6,
   "metadata": {},
   "outputs": [
    {
     "data": {
      "text/html": [
       "<div>\n",
       "<style scoped>\n",
       "    .dataframe tbody tr th:only-of-type {\n",
       "        vertical-align: middle;\n",
       "    }\n",
       "\n",
       "    .dataframe tbody tr th {\n",
       "        vertical-align: top;\n",
       "    }\n",
       "\n",
       "    .dataframe thead th {\n",
       "        text-align: right;\n",
       "    }\n",
       "</style>\n",
       "<table border=\"1\" class=\"dataframe\">\n",
       "  <thead>\n",
       "    <tr style=\"text-align: right;\">\n",
       "      <th></th>\n",
       "      <th>Gold</th>\n",
       "      <th>Real Estate</th>\n",
       "      <th>Bonds</th>\n",
       "      <th>Equity</th>\n",
       "    </tr>\n",
       "  </thead>\n",
       "  <tbody>\n",
       "    <tr>\n",
       "      <th>Gold</th>\n",
       "      <td>1.000000</td>\n",
       "      <td>0.232321</td>\n",
       "      <td>0.390398</td>\n",
       "      <td>0.122310</td>\n",
       "    </tr>\n",
       "    <tr>\n",
       "      <th>Real Estate</th>\n",
       "      <td>0.232321</td>\n",
       "      <td>1.000000</td>\n",
       "      <td>0.318487</td>\n",
       "      <td>0.757416</td>\n",
       "    </tr>\n",
       "    <tr>\n",
       "      <th>Bonds</th>\n",
       "      <td>0.390398</td>\n",
       "      <td>0.318487</td>\n",
       "      <td>1.000000</td>\n",
       "      <td>0.040619</td>\n",
       "    </tr>\n",
       "    <tr>\n",
       "      <th>Equity</th>\n",
       "      <td>0.122310</td>\n",
       "      <td>0.757416</td>\n",
       "      <td>0.040619</td>\n",
       "      <td>1.000000</td>\n",
       "    </tr>\n",
       "  </tbody>\n",
       "</table>\n",
       "</div>"
      ],
      "text/plain": [
       "                 Gold  Real Estate     Bonds    Equity\n",
       "Gold         1.000000     0.232321  0.390398  0.122310\n",
       "Real Estate  0.232321     1.000000  0.318487  0.757416\n",
       "Bonds        0.390398     0.318487  1.000000  0.040619\n",
       "Equity       0.122310     0.757416  0.040619  1.000000"
      ]
     },
     "execution_count": 6,
     "metadata": {},
     "output_type": "execute_result"
    }
   ],
   "source": [
    "returns.corr()"
   ]
  },
  {
   "cell_type": "code",
   "execution_count": 7,
   "metadata": {},
   "outputs": [
    {
     "data": {
      "text/plain": [
       "Gold           0.021004\n",
       "Real Estate    0.023728\n",
       "Bonds          0.005197\n",
       "Equity         0.021594\n",
       "dtype: float64"
      ]
     },
     "execution_count": 7,
     "metadata": {},
     "output_type": "execute_result"
    }
   ],
   "source": [
    "returns.std()"
   ]
  },
  {
   "cell_type": "code",
   "execution_count": 8,
   "metadata": {},
   "outputs": [
    {
     "data": {
      "text/plain": [
       "Gold           0.000689\n",
       "Real Estate    0.001411\n",
       "Bonds          0.000373\n",
       "Equity         0.002221\n",
       "dtype: float64"
      ]
     },
     "execution_count": 8,
     "metadata": {},
     "output_type": "execute_result"
    }
   ],
   "source": [
    "returns.mean()"
   ]
  },
  {
   "cell_type": "code",
   "execution_count": 9,
   "metadata": {},
   "outputs": [
    {
     "data": {
      "text/plain": [
       "Gold           0.023895\n",
       "Real Estate    0.064604\n",
       "Bonds          0.018957\n",
       "Equity         0.111132\n",
       "dtype: float64"
      ]
     },
     "execution_count": 9,
     "metadata": {},
     "output_type": "execute_result"
    }
   ],
   "source": [
    "annualized_returns = pc.annualize_returns(change_timeframe(returns,'M'), 12)\n",
    "annualized_returns"
   ]
  },
  {
   "cell_type": "code",
   "execution_count": 10,
   "metadata": {},
   "outputs": [
    {
     "data": {
      "text/plain": [
       "Gold           0.151462\n",
       "Real Estate    0.171105\n",
       "Bonds          0.037474\n",
       "Equity         0.155718\n",
       "dtype: float64"
      ]
     },
     "execution_count": 10,
     "metadata": {},
     "output_type": "execute_result"
    }
   ],
   "source": [
    "annualized_vol = pc.annualize_vol(returns, 52)\n",
    "annualized_vol"
   ]
  },
  {
   "cell_type": "code",
   "execution_count": 11,
   "metadata": {},
   "outputs": [
    {
     "data": {
      "text/plain": [
       "Gold           0.157763\n",
       "Real Estate    0.377570\n",
       "Bonds          0.505878\n",
       "Equity         0.713675\n",
       "dtype: float64"
      ]
     },
     "execution_count": 11,
     "metadata": {},
     "output_type": "execute_result"
    }
   ],
   "source": [
    "annualized_returns/annualized_vol"
   ]
  }
 ],
 "metadata": {
  "kernelspec": {
   "display_name": "minimal_Data_Science",
   "language": "python",
   "name": "python3"
  },
  "language_info": {
   "codemirror_mode": {
    "name": "ipython",
    "version": 3
   },
   "file_extension": ".py",
   "mimetype": "text/x-python",
   "name": "python",
   "nbconvert_exporter": "python",
   "pygments_lexer": "ipython3",
   "version": "3.10.10"
  },
  "orig_nbformat": 4
 },
 "nbformat": 4,
 "nbformat_minor": 2
}
