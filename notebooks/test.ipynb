{
 "cells": [
  {
   "cell_type": "code",
   "execution_count": 1,
   "metadata": {},
   "outputs": [
    {
     "name": "stdout",
     "output_type": "stream",
     "text": [
      "Looking in indexes: https://test.pypi.org/simple/\n",
      "Collecting portfolio-construction-toolkit\n",
      "  Downloading https://test-files.pythonhosted.org/packages/91/22/8bb2cd1250bf0373a6dc8313f78e8df4e826e3070630f249188eb2fb2763/portfolio_construction_toolkit-1.0.0-py3-none-any.whl (10 kB)\n",
      "Requirement already satisfied: pandas>=2.0.2 in c:\\users\\user\\miniconda3\\envs\\data_science_1\\lib\\site-packages (from portfolio-construction-toolkit) (2.0.2)\n",
      "Requirement already satisfied: numpy>=1.25.0 in c:\\users\\user\\miniconda3\\envs\\data_science_1\\lib\\site-packages (from portfolio-construction-toolkit) (1.25.0)\n",
      "Requirement already satisfied: matplotlib>=3.7.1 in c:\\users\\user\\miniconda3\\envs\\data_science_1\\lib\\site-packages (from portfolio-construction-toolkit) (3.7.1)\n",
      "Requirement already satisfied: yfinance>=0.2.22 in c:\\users\\user\\miniconda3\\envs\\data_science_1\\lib\\site-packages (from portfolio-construction-toolkit) (0.2.22)\n",
      "Requirement already satisfied: scipy>=1.11.0 in c:\\users\\user\\miniconda3\\envs\\data_science_1\\lib\\site-packages (from portfolio-construction-toolkit) (1.11.0)\n",
      "Requirement already satisfied: contourpy>=1.0.1 in c:\\users\\user\\miniconda3\\envs\\data_science_1\\lib\\site-packages (from matplotlib>=3.7.1->portfolio-construction-toolkit) (1.1.0)\n",
      "Requirement already satisfied: cycler>=0.10 in c:\\users\\user\\miniconda3\\envs\\data_science_1\\lib\\site-packages (from matplotlib>=3.7.1->portfolio-construction-toolkit) (0.11.0)\n",
      "Requirement already satisfied: fonttools>=4.22.0 in c:\\users\\user\\miniconda3\\envs\\data_science_1\\lib\\site-packages (from matplotlib>=3.7.1->portfolio-construction-toolkit) (4.40.0)\n",
      "Requirement already satisfied: kiwisolver>=1.0.1 in c:\\users\\user\\miniconda3\\envs\\data_science_1\\lib\\site-packages (from matplotlib>=3.7.1->portfolio-construction-toolkit) (1.4.4)\n",
      "Requirement already satisfied: packaging>=20.0 in c:\\users\\user\\miniconda3\\envs\\data_science_1\\lib\\site-packages (from matplotlib>=3.7.1->portfolio-construction-toolkit) (23.1)\n",
      "Requirement already satisfied: pillow>=6.2.0 in c:\\users\\user\\miniconda3\\envs\\data_science_1\\lib\\site-packages (from matplotlib>=3.7.1->portfolio-construction-toolkit) (9.5.0)\n",
      "Requirement already satisfied: pyparsing>=2.3.1 in c:\\users\\user\\miniconda3\\envs\\data_science_1\\lib\\site-packages (from matplotlib>=3.7.1->portfolio-construction-toolkit) (3.1.0)\n",
      "Requirement already satisfied: python-dateutil>=2.7 in c:\\users\\user\\miniconda3\\envs\\data_science_1\\lib\\site-packages (from matplotlib>=3.7.1->portfolio-construction-toolkit) (2.8.2)\n",
      "Requirement already satisfied: pytz>=2020.1 in c:\\users\\user\\miniconda3\\envs\\data_science_1\\lib\\site-packages (from pandas>=2.0.2->portfolio-construction-toolkit) (2023.3)\n",
      "Requirement already satisfied: tzdata>=2022.1 in c:\\users\\user\\miniconda3\\envs\\data_science_1\\lib\\site-packages (from pandas>=2.0.2->portfolio-construction-toolkit) (2023.3)\n",
      "Requirement already satisfied: requests>=2.26 in c:\\users\\user\\miniconda3\\envs\\data_science_1\\lib\\site-packages (from yfinance>=0.2.22->portfolio-construction-toolkit) (2.31.0)\n",
      "Requirement already satisfied: multitasking>=0.0.7 in c:\\users\\user\\miniconda3\\envs\\data_science_1\\lib\\site-packages (from yfinance>=0.2.22->portfolio-construction-toolkit) (0.0.11)\n",
      "Requirement already satisfied: lxml>=4.9.1 in c:\\users\\user\\miniconda3\\envs\\data_science_1\\lib\\site-packages (from yfinance>=0.2.22->portfolio-construction-toolkit) (4.9.2)\n",
      "Requirement already satisfied: appdirs>=1.4.4 in c:\\users\\user\\miniconda3\\envs\\data_science_1\\lib\\site-packages (from yfinance>=0.2.22->portfolio-construction-toolkit) (1.4.4)\n",
      "Requirement already satisfied: frozendict>=2.3.4 in c:\\users\\user\\miniconda3\\envs\\data_science_1\\lib\\site-packages (from yfinance>=0.2.22->portfolio-construction-toolkit) (2.3.8)\n",
      "Requirement already satisfied: beautifulsoup4>=4.11.1 in c:\\users\\user\\miniconda3\\envs\\data_science_1\\lib\\site-packages (from yfinance>=0.2.22->portfolio-construction-toolkit) (4.12.2)\n",
      "Requirement already satisfied: html5lib>=1.1 in c:\\users\\user\\miniconda3\\envs\\data_science_1\\lib\\site-packages (from yfinance>=0.2.22->portfolio-construction-toolkit) (1.1)\n",
      "Requirement already satisfied: soupsieve>1.2 in c:\\users\\user\\miniconda3\\envs\\data_science_1\\lib\\site-packages (from beautifulsoup4>=4.11.1->yfinance>=0.2.22->portfolio-construction-toolkit) (2.3.2.post1)\n",
      "Requirement already satisfied: six>=1.9 in c:\\users\\user\\miniconda3\\envs\\data_science_1\\lib\\site-packages (from html5lib>=1.1->yfinance>=0.2.22->portfolio-construction-toolkit) (1.16.0)\n",
      "Requirement already satisfied: webencodings in c:\\users\\user\\miniconda3\\envs\\data_science_1\\lib\\site-packages (from html5lib>=1.1->yfinance>=0.2.22->portfolio-construction-toolkit) (0.5.1)\n",
      "Requirement already satisfied: charset-normalizer<4,>=2 in c:\\users\\user\\miniconda3\\envs\\data_science_1\\lib\\site-packages (from requests>=2.26->yfinance>=0.2.22->portfolio-construction-toolkit) (3.1.0)\n",
      "Requirement already satisfied: idna<4,>=2.5 in c:\\users\\user\\miniconda3\\envs\\data_science_1\\lib\\site-packages (from requests>=2.26->yfinance>=0.2.22->portfolio-construction-toolkit) (3.4)\n",
      "Requirement already satisfied: urllib3<3,>=1.21.1 in c:\\users\\user\\miniconda3\\envs\\data_science_1\\lib\\site-packages (from requests>=2.26->yfinance>=0.2.22->portfolio-construction-toolkit) (2.0.3)\n",
      "Requirement already satisfied: certifi>=2017.4.17 in c:\\users\\user\\miniconda3\\envs\\data_science_1\\lib\\site-packages (from requests>=2.26->yfinance>=0.2.22->portfolio-construction-toolkit) (2023.5.7)\n",
      "Installing collected packages: portfolio-construction-toolkit\n",
      "Successfully installed portfolio-construction-toolkit-1.0.0\n"
     ]
    }
   ],
   "source": [
    "! pip install -i https://test.pypi.org/simple/ portfolio-construction-toolkit"
   ]
  },
  {
   "cell_type": "code",
   "execution_count": 2,
   "metadata": {},
   "outputs": [
    {
     "name": "stdout",
     "output_type": "stream",
     "text": [
      "Name: portfolio-construction-toolkit\n",
      "Version: 1.0.0\n",
      "Summary: Portfolio construction and analysis. Find the optimal weights and backtest different kinds of portfolios.\n",
      "Home-page: \n",
      "Author: Titiksh Prakash\n",
      "Author-email: \n",
      "License: \n",
      "Location: c:\\users\\user\\miniconda3\\envs\\data_science_1\\lib\\site-packages\n",
      "Requires: matplotlib, numpy, pandas, scipy, yfinance\n",
      "Required-by: \n",
      "Note: you may need to restart the kernel to use updated packages.\n"
     ]
    }
   ],
   "source": [
    "pip show portfolio_construction_toolkit"
   ]
  },
  {
   "cell_type": "code",
   "execution_count": 6,
   "metadata": {},
   "outputs": [],
   "source": [
    "import portfolio_construction_toolkit.all as pc"
   ]
  },
  {
   "cell_type": "code",
   "execution_count": 8,
   "metadata": {},
   "outputs": [],
   "source": [
    "import numpy as np"
   ]
  }
 ],
 "metadata": {
  "kernelspec": {
   "display_name": "Data_Science_1",
   "language": "python",
   "name": "python3"
  },
  "language_info": {
   "codemirror_mode": {
    "name": "ipython",
    "version": 3
   },
   "file_extension": ".py",
   "mimetype": "text/x-python",
   "name": "python",
   "nbconvert_exporter": "python",
   "pygments_lexer": "ipython3",
   "version": "3.10.12"
  },
  "orig_nbformat": 4
 },
 "nbformat": 4,
 "nbformat_minor": 2
}
